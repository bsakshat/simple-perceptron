{
 "cells": [
  {
   "cell_type": "markdown",
   "metadata": {},
   "source": [
    "#### Custom Exception for mismatched size arrays"
   ]
  },
  {
   "cell_type": "code",
   "execution_count": 61,
   "metadata": {},
   "outputs": [],
   "source": [
    "class ArraySizeException(Exception):\n",
    "    pass"
   ]
  },
  {
   "cell_type": "markdown",
   "metadata": {},
   "source": [
    "#### Function to calculate the dot product"
   ]
  },
  {
   "cell_type": "code",
   "execution_count": 62,
   "metadata": {},
   "outputs": [],
   "source": [
    "def dotProduct(w, data):\n",
    "    if len(w) != len(data):\n",
    "        raise ArraySizeException('Mismatched Arrays. Unable to calculate.')\n",
    "    else:\n",
    "        total = 0\n",
    "        for i in range(len(w)):\n",
    "            product = w[i] * data[i]\n",
    "            total += product\n",
    "        return total"
   ]
  },
  {
   "cell_type": "markdown",
   "metadata": {},
   "source": [
    "#### Function for the Perceptron\n",
    "Returns the final weight vector, predictions for each of the inputData and the sum of square errors of each iteration"
   ]
  },
  {
   "cell_type": "code",
   "execution_count": 85,
   "metadata": {},
   "outputs": [],
   "source": [
    "def perceptron(inputData, label, Z, n):\n",
    "    w = [0, 0, 0]\n",
    "    \n",
    "    predictions = [0 for i in range(len(label))]\n",
    "    errors = [1 for i in range(len(label))]\n",
    "    sumOfErrors = 0\n",
    "    sumSquareError = []\n",
    "    \n",
    "    \n",
    "    for count in range(n):\n",
    "        for i in range(len(inputData)):\n",
    "            result = dotProduct(w, inputData[i])\n",
    "\n",
    "            if result >= Z:\n",
    "                prediction = 1\n",
    "            else:\n",
    "                prediction = 0\n",
    "            \n",
    "            predictions[i] = prediction\n",
    "\n",
    "            for j in range(len(w) - 1):\n",
    "                w[j] += (label[i] - prediction) * inputData[i][j]\n",
    "            w[len(w) - 1] +=  (label[i] - prediction)\n",
    "    \n",
    "        for k in range(len(label)):\n",
    "            errors[k] = (label[k] - predictions[k]) ** 2\n",
    "            sumOfErrors += errors[k]\n",
    "\n",
    "        sumSquareError.append(0.5 * sumOfErrors) \n",
    "    \n",
    "    return w, predictions, sumSquareError"
   ]
  },
  {
   "cell_type": "markdown",
   "metadata": {},
   "source": [
    "#### Initializations for the input data variables and the files for the input"
   ]
  },
  {
   "cell_type": "code",
   "execution_count": 92,
   "metadata": {},
   "outputs": [],
   "source": [
    "x  = []\n",
    "inputData = []\n",
    "label = []\n",
    "files = ['twoclassData/set' + str(i) + '.train' for i in range(11)]"
   ]
  },
  {
   "cell_type": "markdown",
   "metadata": {},
   "source": [
    "#### Preprocess the data to feed into the perceptron\n",
    "Splits the data into inputData and label, adds '1' to each inputData for the bias term"
   ]
  },
  {
   "cell_type": "code",
   "execution_count": 93,
   "metadata": {},
   "outputs": [],
   "source": [
    "def makeData(filename):\n",
    "    for line in open(fileName, \"r\").readlines():\n",
    "        dataPoint = line.split(' ')\n",
    "        x.append([float(dataPoint[0]), float(dataPoint[1])])\n",
    "        label.append(float(dataPoint[2]))\n",
    "\n",
    "    for i in range(len(x)):\n",
    "        inputData.append([x[i][0], x[i][1], 1])"
   ]
  },
  {
   "cell_type": "code",
   "execution_count": 94,
   "metadata": {},
   "outputs": [],
   "source": [
    "w, predictions, sError = perceptron(inputData, label, 0, 40)"
   ]
  },
  {
   "cell_type": "code",
   "execution_count": null,
   "metadata": {},
   "outputs": [],
   "source": []
  }
 ],
 "metadata": {
  "kernelspec": {
   "display_name": "Python 3",
   "language": "python",
   "name": "python3"
  },
  "language_info": {
   "codemirror_mode": {
    "name": "ipython",
    "version": 3
   },
   "file_extension": ".py",
   "mimetype": "text/x-python",
   "name": "python",
   "nbconvert_exporter": "python",
   "pygments_lexer": "ipython3",
   "version": "3.8.2"
  }
 },
 "nbformat": 4,
 "nbformat_minor": 4
}
