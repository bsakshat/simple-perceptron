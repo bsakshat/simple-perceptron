{
 "cells": [
  {
   "cell_type": "code",
   "execution_count": 93,
   "metadata": {},
   "outputs": [],
   "source": [
    "import random"
   ]
  },
  {
   "cell_type": "markdown",
   "metadata": {},
   "source": [
    "#### Custom Exception for mismatched size arrays"
   ]
  },
  {
   "cell_type": "code",
   "execution_count": 94,
   "metadata": {},
   "outputs": [],
   "source": [
    "class ArraySizeException(Exception):\n",
    "    pass"
   ]
  },
  {
   "cell_type": "markdown",
   "metadata": {},
   "source": [
    "#### Function to calculate the dot product"
   ]
  },
  {
   "cell_type": "code",
   "execution_count": 95,
   "metadata": {},
   "outputs": [],
   "source": [
    "def dotProduct(w, data):\n",
    "    if len(w) != len(data):\n",
    "        raise ArraySizeException('Mismatched Arrays. Unable to calculate.')\n",
    "    else:\n",
    "        total = 0\n",
    "        for i in range(len(w)):\n",
    "            product = w[i] * data[i]\n",
    "            total += product\n",
    "        return total"
   ]
  },
  {
   "cell_type": "markdown",
   "metadata": {},
   "source": [
    "#### Class for the Perceptron\n",
    "Returns the predictions for each of the testData, total no. of errors and the error rate"
   ]
  },
  {
   "cell_type": "code",
   "execution_count": 140,
   "metadata": {},
   "outputs": [],
   "source": [
    "class Perceptron():\n",
    "    \n",
    "    random.seed(0)\n",
    "    \n",
    "    def __init__(self, inputData, label, Z = 0):\n",
    "        self.inputData = inputData\n",
    "        self.label = label\n",
    "        self.Z = Z\n",
    "        self.w = [random.uniform(-100, 100) for _ in range(len(self.inputData[0]))]\n",
    "        \n",
    "        \n",
    "    def activation(result):\n",
    "        if result >= self.Z:\n",
    "            return 1\n",
    "        else:\n",
    "            return 0                  \n",
    "        \n",
    "        \n",
    "    def train(self, n):  \n",
    "        \n",
    "        for count in range(n):\n",
    "            for i in range(len(self.inputData)):\n",
    "                result = dotProduct(self.w, self.inputData[i])\n",
    "\n",
    "                prediction = self.activation(result)\n",
    "                    \n",
    "                for j in range(len(self.w) - 1):\n",
    "                    self.w[j] += (self.label[i] - prediction) * self.inputData[i][j]\n",
    "                self.w[len(self.w) - 1] +=  (self.label[i] - prediction)\n",
    "       \n",
    "    \n",
    "    def predict(self, testData, testLabel):\n",
    "        \n",
    "        testPredictions = []\n",
    "        totalError = 0\n",
    "        \n",
    "        for i in range(len(testData)):\n",
    "            result = dotProduct(self.w, testData[i])\n",
    "            \n",
    "            prediction = self.activation(result)\n",
    "            \n",
    "            if prediction != testLabel[i]:\n",
    "                totalError += 1\n",
    "                \n",
    "            testPredictions.append(prediction)\n",
    "            \n",
    "            errorRate = (totalError / len(testLabel)) * 100\n",
    "            \n",
    "        return testPredictions, totalError, errorRate\n",
    "        "
   ]
  },
  {
   "cell_type": "markdown",
   "metadata": {},
   "source": [
    "#### Make test data from the test file"
   ]
  },
  {
   "cell_type": "code",
   "execution_count": 120,
   "metadata": {},
   "outputs": [],
   "source": [
    "testx  = []\n",
    "testData = []\n",
    "testLabel = []\n",
    "\n",
    "for line in open(\"twoclassData/set.test\", \"r\").readlines():\n",
    "    dataPoint = line.split(' ')\n",
    "    testx.append([float(dataPoint[0]), float(dataPoint[1])])\n",
    "    testLabel.append(float(dataPoint[2]))\n",
    "\n",
    "for i in range(len(testx)):\n",
    "    testData.append([testx[i][0], testx[i][1], 1])"
   ]
  },
  {
   "cell_type": "markdown",
   "metadata": {},
   "source": [
    "#### Initializations for the input data variables and the files for the input"
   ]
  },
  {
   "cell_type": "code",
   "execution_count": 121,
   "metadata": {},
   "outputs": [],
   "source": [
    "x  = []\n",
    "inputData = []\n",
    "inputLabel = []\n",
    "files = ['twoclassData/set' + str(i) + '.train' for i in range(1, 11)]"
   ]
  },
  {
   "cell_type": "markdown",
   "metadata": {},
   "source": [
    "#### Preprocess the data to feed into the perceptron\n",
    "Splits the data into inputData and label, adds '1' to each inputData for the bias term"
   ]
  },
  {
   "cell_type": "code",
   "execution_count": 122,
   "metadata": {},
   "outputs": [],
   "source": [
    "def makeData(filename):\n",
    "    for line in open(filename, \"r\").readlines():\n",
    "        dataPoint = line.split(' ')\n",
    "        x.append([float(dataPoint[0]), float(dataPoint[1])])\n",
    "        inputLabel.append(float(dataPoint[2]))\n",
    "\n",
    "    for i in range(len(x)):\n",
    "        inputData.append([x[i][0], x[i][1], 1])"
   ]
  },
  {
   "cell_type": "markdown",
   "metadata": {},
   "source": [
    "Selects the required file and makes input data from the files"
   ]
  },
  {
   "cell_type": "code",
   "execution_count": 123,
   "metadata": {},
   "outputs": [],
   "source": [
    "filename = files[0]\n",
    "makeData(filename)"
   ]
  },
  {
   "cell_type": "markdown",
   "metadata": {},
   "source": [
    "Initializing and training the perceptron with iterations = 20"
   ]
  },
  {
   "cell_type": "code",
   "execution_count": 135,
   "metadata": {},
   "outputs": [],
   "source": [
    "Perceptron1 = Perceptron(inputData, inputLabel)\n",
    "Perceptron1.train(20)"
   ]
  },
  {
   "cell_type": "markdown",
   "metadata": {},
   "source": [
    "Testing the perceptron on the test data "
   ]
  },
  {
   "cell_type": "code",
   "execution_count": 136,
   "metadata": {},
   "outputs": [],
   "source": [
    "testPredictions, totalError, errorRate = Perceptron1.predict(testData, testLabel)"
   ]
  },
  {
   "cell_type": "markdown",
   "metadata": {},
   "source": [
    "Displaying the error rate"
   ]
  },
  {
   "cell_type": "code",
   "execution_count": 139,
   "metadata": {},
   "outputs": [
    {
     "name": "stdout",
     "output_type": "stream",
     "text": [
      "0.15\n"
     ]
    }
   ],
   "source": [
    "print(errorRate)"
   ]
  },
  {
   "cell_type": "markdown",
   "metadata": {},
   "source": [
    "3.25"
   ]
  }
 ],
 "metadata": {
  "kernelspec": {
   "display_name": "Python 3",
   "language": "python",
   "name": "python3"
  },
  "language_info": {
   "codemirror_mode": {
    "name": "ipython",
    "version": 3
   },
   "file_extension": ".py",
   "mimetype": "text/x-python",
   "name": "python",
   "nbconvert_exporter": "python",
   "pygments_lexer": "ipython3",
   "version": "3.8.2"
  }
 },
 "nbformat": 4,
 "nbformat_minor": 4
}
